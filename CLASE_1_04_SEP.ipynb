{
  "nbformat": 4,
  "nbformat_minor": 0,
  "metadata": {
    "colab": {
      "provenance": [],
      "authorship_tag": "ABX9TyMceA6FnMF6ixZ71qBMn8CI",
      "include_colab_link": true
    },
    "kernelspec": {
      "name": "python3",
      "display_name": "Python 3"
    },
    "language_info": {
      "name": "python"
    }
  },
  "cells": [
    {
      "cell_type": "markdown",
      "metadata": {
        "id": "view-in-github",
        "colab_type": "text"
      },
      "source": [
        "<a href=\"https://colab.research.google.com/github/05-cam/colab/blob/main/CLASE_1_04_SEP.ipynb\" target=\"_parent\"><img src=\"https://colab.research.google.com/assets/colab-badge.svg\" alt=\"Open In Colab\"/></a>"
      ]
    },
    {
      "cell_type": "code",
      "execution_count": null,
      "metadata": {
        "id": "EPyEKLVjw15W"
      },
      "outputs": [],
      "source": []
    },
    {
      "cell_type": "markdown",
      "source": [
        "# Palabras reservadas\n",
        "\n",
        "Las palabras reserbadas (keywords) corresponden a los nombres  de las declaraciones que el interprete de Python incluye por defecto. No se deben utilizar dichas palabras para asignar nombres a otros objectos.\n",
        "\n",
        "El listado de palabras puede ser consultado con el comando help(\"keywords\")\n"
      ],
      "metadata": {
        "id": "AZmKtpr9x6Ho"
      }
    },
    {
      "cell_type": "code",
      "source": [
        "help (\"keywords\")"
      ],
      "metadata": {
        "colab": {
          "base_uri": "https://localhost:8080/"
        },
        "id": "RGi08WqA00ak",
        "outputId": "2d5dda18-082a-4365-c1aa-a75e51bfc855"
      },
      "execution_count": 1,
      "outputs": [
        {
          "output_type": "stream",
          "name": "stdout",
          "text": [
            "\n",
            "Here is a list of the Python keywords.  Enter any keyword to get more help.\n",
            "\n",
            "False               class               from                or\n",
            "None                continue            global              pass\n",
            "True                def                 if                  raise\n",
            "and                 del                 import              return\n",
            "as                  elif                in                  try\n",
            "assert              else                is                  while\n",
            "async               except              lambda              with\n",
            "await               finally             nonlocal            yield\n",
            "break               for                 not                 \n",
            "\n"
          ]
        }
      ]
    },
    {
      "cell_type": "markdown",
      "source": [
        "# El espacio de nombres (namespace)\n",
        "El espacio de nombres (namespace) contiene una relacion de los objectos existentes en la memoria del sistema y los nombres a los que estan ligados.\n",
        "\n",
        "Python es un lenguaje de alto nivel en el que todos sus elementos son objectos, incluyendo los tipos de datos basicos de tal forma que los terminos \"valor\" y \"objecto\" son sinonimos.\n"
      ],
      "metadata": {
        "id": "iWq2TlTw1MMP"
      }
    }
  ]
}