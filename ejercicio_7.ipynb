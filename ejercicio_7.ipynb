{
  "nbformat": 4,
  "nbformat_minor": 0,
  "metadata": {
    "colab": {
      "provenance": [],
      "authorship_tag": "ABX9TyNTRcd4MI2UKohejF46I6vc",
      "include_colab_link": true
    },
    "kernelspec": {
      "name": "python3",
      "display_name": "Python 3"
    },
    "language_info": {
      "name": "python"
    }
  },
  "cells": [
    {
      "cell_type": "markdown",
      "metadata": {
        "id": "view-in-github",
        "colab_type": "text"
      },
      "source": [
        "<a href=\"https://colab.research.google.com/github/05-cam/colab/blob/main/ejercicio_7.ipynb\" target=\"_parent\"><img src=\"https://colab.research.google.com/assets/colab-badge.svg\" alt=\"Open In Colab\"/></a>"
      ]
    },
    {
      "cell_type": "code",
      "source": [
        "# Números\n",
        "x = 10\n",
        "y = 3.14\n",
        "print(\"Entero:\", x)\n",
        "print(\"Flotante:\", y)\n",
        "\n",
        "# Cadena\n",
        "s = \"Hola\"\n",
        "print(\"\\nCadena completa:\", s)\n",
        "print(\"Primer caracter:\", s[0])\n",
        "\n",
        "# Lista\n",
        "nums = [1, 2, 3]\n",
        "print(\"\\nLista inicial:\", nums)\n",
        "nums[0] = 10\n",
        "print(\"Lista modificada:\", nums)\n",
        "\n",
        "# Tupla\n",
        "t = (1, 2, 3)\n",
        "print(\"\\nTupla:\", t)\n",
        "\n",
        "# Conjunto\n",
        "conj = {1, 2, 3}\n",
        "print(\"\\nSet inicial:\", conj)\n",
        "conj.add(4)\n",
        "print(\"Set después de agregar 4:\", conj)\n",
        "\n",
        "# Diccionario\n",
        "d = {\"a\": 1, \"b\": 2}\n",
        "print(\"\\nDiccionario:\", d)\n",
        "print(\"Valor con clave 'a':\", d[\"a\"])\n",
        "\n",
        "# Booleanos\n",
        "flag = True\n",
        "print(\"\\nBooleano:\", flag)\n",
        "print(\"Operación lógica:\", flag and False)"
      ],
      "metadata": {
        "colab": {
          "base_uri": "https://localhost:8080/"
        },
        "id": "qqYT8Yz7i7er",
        "outputId": "ce138273-ea2a-4dbb-8fa1-e37df11946cf"
      },
      "execution_count": 1,
      "outputs": [
        {
          "output_type": "stream",
          "name": "stdout",
          "text": [
            "Entero: 10\n",
            "Flotante: 3.14\n",
            "\n",
            "Cadena completa: Hola\n",
            "Primer caracter: H\n",
            "\n",
            "Lista inicial: [1, 2, 3]\n",
            "Lista modificada: [10, 2, 3]\n",
            "\n",
            "Tupla: (1, 2, 3)\n",
            "\n",
            "Set inicial: {1, 2, 3}\n",
            "Set después de agregar 4: {1, 2, 3, 4}\n",
            "\n",
            "Diccionario: {'a': 1, 'b': 2}\n",
            "Valor con clave 'a': 1\n",
            "\n",
            "Booleano: True\n",
            "Operación lógica: False\n"
          ]
        }
      ]
    }
  ]
}